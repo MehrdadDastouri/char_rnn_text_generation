{
  "nbformat": 4,
  "nbformat_minor": 0,
  "metadata": {
    "colab": {
      "provenance": [],
      "authorship_tag": "ABX9TyPP02hWGE4Ha0zpbDB9Ah38",
      "include_colab_link": true
    },
    "kernelspec": {
      "name": "python3",
      "display_name": "Python 3"
    },
    "language_info": {
      "name": "python"
    }
  },
  "cells": [
    {
      "cell_type": "markdown",
      "metadata": {
        "id": "view-in-github",
        "colab_type": "text"
      },
      "source": [
        "<a href=\"https://colab.research.google.com/github/MehrdadDastouri/char_rnn_text_generation/blob/main/char_rnn_text_generation.ipynb\" target=\"_parent\"><img src=\"https://colab.research.google.com/assets/colab-badge.svg\" alt=\"Open In Colab\"/></a>"
      ]
    },
    {
      "cell_type": "code",
      "execution_count": 7,
      "metadata": {
        "colab": {
          "base_uri": "https://localhost:8080/"
        },
        "id": "Mxu6f9hrbwj4",
        "outputId": "ca9c57c2-2b8f-4c9e-df1a-01de77d74a5e"
      },
      "outputs": [
        {
          "output_type": "stream",
          "name": "stdout",
          "text": [
            "Epoch [10/100], Loss: 0.2945\n",
            "Epoch [20/100], Loss: 0.1638\n",
            "Epoch [30/100], Loss: 0.1444\n",
            "Epoch [40/100], Loss: 0.1412\n",
            "Epoch [50/100], Loss: 0.1400\n",
            "Epoch [60/100], Loss: 0.1396\n",
            "Epoch [70/100], Loss: 0.1394\n",
            "Epoch [80/100], Loss: 0.1393\n",
            "Epoch [90/100], Loss: 0.1392\n",
            "Epoch [100/100], Loss: 0.1392\n",
            "Generated Text:\n",
            "hello world this is an example of a simple text generation using RNNNNNNNNNNNNNNNNNNNNNNNNNNNNNNNNNNNNNNN\n"
          ]
        }
      ],
      "source": [
        "# Import necessary libraries\n",
        "import torch\n",
        "import torch.nn as nn\n",
        "import torch.optim as optim\n",
        "import numpy as np\n",
        "import random\n",
        "\n",
        "# Set random seed for reproducibility\n",
        "torch.manual_seed(42)\n",
        "\n",
        "# Sample text data\n",
        "text = \"hello world this is an example of a simple text generation using RNN\"\n",
        "chars = sorted(list(set(text)))\n",
        "char_to_idx = {char: idx for idx, char in enumerate(chars)}\n",
        "idx_to_char = {idx: char for char, idx in char_to_idx.items()}\n",
        "\n",
        "# Hyperparameters\n",
        "sequence_length = 10\n",
        "hidden_size = 128\n",
        "num_layers = 1\n",
        "learning_rate = 0.01\n",
        "epochs = 100\n",
        "\n",
        "# Prepare the data\n",
        "def create_dataset(text, sequence_length):\n",
        "    inputs = []\n",
        "    targets = []\n",
        "    for i in range(len(text) - sequence_length):\n",
        "        input_seq = text[i:i + sequence_length]\n",
        "        target_seq = text[i + 1:i + sequence_length + 1]\n",
        "        inputs.append([char_to_idx[char] for char in input_seq])\n",
        "        targets.append([char_to_idx[char] for char in target_seq])\n",
        "    return torch.tensor(inputs, dtype=torch.long), torch.tensor(targets, dtype=torch.long)\n",
        "\n",
        "inputs, targets = create_dataset(text, sequence_length)\n",
        "\n",
        "# Define the RNN model\n",
        "class CharRNN(nn.Module):\n",
        "    def __init__(self, vocab_size, hidden_size, num_layers):\n",
        "        super(CharRNN, self).__init__()\n",
        "        self.hidden_size = hidden_size\n",
        "        self.num_layers = num_layers\n",
        "        self.embedding = nn.Embedding(vocab_size, hidden_size)\n",
        "        self.rnn = nn.RNN(hidden_size, hidden_size, num_layers, batch_first=True)\n",
        "        self.fc = nn.Linear(hidden_size, vocab_size)\n",
        "\n",
        "    def forward(self, x, hidden):\n",
        "        x = self.embedding(x)  # Convert input to embeddings\n",
        "        out, hidden = self.rnn(x, hidden)  # Pass through RNN\n",
        "        out = self.fc(out)  # Map to vocabulary size\n",
        "        return out, hidden\n",
        "\n",
        "    def init_hidden(self, batch_size):\n",
        "        return torch.zeros(self.num_layers, batch_size, self.hidden_size)\n",
        "\n",
        "# Initialize the model\n",
        "vocab_size = len(chars)\n",
        "model = CharRNN(vocab_size, hidden_size, num_layers)\n",
        "criterion = nn.CrossEntropyLoss()\n",
        "optimizer = optim.Adam(model.parameters(), lr=learning_rate)\n",
        "\n",
        "# Training the model\n",
        "for epoch in range(epochs):\n",
        "    hidden = model.init_hidden(inputs.size(0))\n",
        "    optimizer.zero_grad()\n",
        "    outputs, _ = model(inputs, hidden)\n",
        "    loss = criterion(outputs.view(-1, vocab_size), targets.view(-1))\n",
        "    loss.backward()\n",
        "    optimizer.step()\n",
        "\n",
        "    if (epoch + 1) % 10 == 0:\n",
        "        print(f\"Epoch [{epoch + 1}/{epochs}], Loss: {loss.item():.4f}\")\n",
        "\n",
        "# Text generation\n",
        "def generate_text(model, start_text, length):\n",
        "    model.eval()\n",
        "    input_seq = torch.tensor([char_to_idx[char] for char in start_text], dtype=torch.long).unsqueeze(0)\n",
        "    hidden = model.init_hidden(1)\n",
        "    generated_text = start_text\n",
        "\n",
        "    for _ in range(length):\n",
        "        output, hidden = model(input_seq, hidden)\n",
        "        next_char_idx = torch.argmax(output[:, -1, :]).item()\n",
        "        next_char = idx_to_char[next_char_idx]\n",
        "        generated_text += next_char\n",
        "        input_seq = torch.tensor([[next_char_idx]], dtype=torch.long)\n",
        "\n",
        "    return generated_text\n",
        "\n",
        "# Generate and print some text\n",
        "start_text = \"hello\"\n",
        "generated_text = generate_text(model, start_text, length=100)\n",
        "print(f\"Generated Text:\\n{generated_text}\")"
      ]
    }
  ]
}